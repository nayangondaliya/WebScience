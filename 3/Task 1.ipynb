{
 "cells": [
  {
   "cell_type": "code",
   "execution_count": 2,
   "id": "203423c7",
   "metadata": {},
   "outputs": [
    {
     "name": "stdout",
     "output_type": "stream",
     "text": [
      "{'Date': 'Sat, 20 Nov 2021 08:42:13 GMT', 'Content-Type': 'text/html; charset=UTF-8', 'Transfer-Encoding': 'chunked', 'Connection': 'keep-alive', 'x-custom-api-dev-id': '8245249', 'set-cookie': 'pastebin_posted=9b3f268776f2179055245b2841288e4fc1f2d64a80f63cc071ae9a9b0df86e06a%3A2%3A%7Bi%3A0%3Bs%3A15%3A%22pastebin_posted%22%3Bi%3A1%3Bs%3A8%3A%2231Vqae9x%22%3B%7D; expires=Sat, 20-Nov-2021 09:42:13 GMT; Max-Age=3600; path=/; HttpOnly', 'content-encoding': 'gzip', 'CF-Cache-Status': 'DYNAMIC', 'Expect-CT': 'max-age=604800, report-uri=\"https://report-uri.cloudflare.com/cdn-cgi/beacon/expect-ct\"', 'Server': 'cloudflare', 'CF-RAY': '6b10623a0fde4eda-FRA'}\n",
      "Follow pastebin URL to see the result: https://pastebin.com/31Vqae9x\n"
     ]
    }
   ],
   "source": [
    "#import required libraries\n",
    "import requests as rq\n",
    "\n",
    "#defining required URL and Key\n",
    "wiki_uri = 'https://en.wikipedia.org/w/rest.php/v1/page/twenty'\n",
    "pastebin_api = 'https://pastebin.com/api/api_post.php'\n",
    "\n",
    "#developer key of pastebin\n",
    "dev_key = '1B9PuyRKB-NGwbQaq06WeNc3h-C51hfN'\n",
    "\n",
    "try:\n",
    "    #calling wikipedia URL for content verification\n",
    "    response = rq.get(wiki_uri)\n",
    "    \n",
    "    #retreiving status code of response\n",
    "    status_code = response.status_code\n",
    "    \n",
    "    #checking whether response code is success or not\n",
    "    if status_code == 200:\n",
    "        \n",
    "        #getting response data in JSON format for information extraction\n",
    "        json_data = response.json()\n",
    "        \n",
    "        #extracting artikel ID\n",
    "        artikel_id = json_data['id']\n",
    "        \n",
    "        #extracting artikel title\n",
    "        title = json_data['title']\n",
    "        \n",
    "        #extracting artikel latest timestamp\n",
    "        time_stamp = json_data['latest']['timestamp']\n",
    "        \n",
    "        #generating pastebin text\n",
    "        paste_text = f'{artikel_id} {title} {time_stamp}'\n",
    "        \n",
    "        #generating json data params for pastebin\n",
    "        params = {'api_dev_key':dev_key, 'api_option':'paste', 'api_paste_code': paste_text, 'api_paste_name': title}\n",
    "        \n",
    "        #calling POST method for new paste\n",
    "        p_response = rq.post(pastebin_api, data = params)\n",
    "        \n",
    "        #printing pastebin headers\n",
    "        print(f'{str(p_response.headers)}')\n",
    "        \n",
    "        #saving pastebin response in .txt file\n",
    "        with open('Response.txt', 'w') as fp:\n",
    "            fp.write(str(p_response.text))\n",
    "            \n",
    "        #writing pastebin response headers in .txt file separately\n",
    "        with open('ResponseHeaders.txt', 'w') as fp:\n",
    "            fp.write(str(p_response.headers))\n",
    "        \n",
    "        #print(paste_text)\n",
    "        #print(f'Follow pastebin URL to see the result: {p_response.text}')\n",
    "    else:\n",
    "        print('Unable to get artikel info using group name, please try some other artikel name')\n",
    "        \n",
    "except BaseException as err:\n",
    "    print(f'Unexpected {err=}, {type(err)=}')"
   ]
  },
  {
   "cell_type": "code",
   "execution_count": null,
   "id": "faa35fea",
   "metadata": {},
   "outputs": [],
   "source": []
  }
 ],
 "metadata": {
  "kernelspec": {
   "display_name": "Python 3 (ipykernel)",
   "language": "python",
   "name": "python3"
  },
  "language_info": {
   "codemirror_mode": {
    "name": "ipython",
    "version": 3
   },
   "file_extension": ".py",
   "mimetype": "text/x-python",
   "name": "python",
   "nbconvert_exporter": "python",
   "pygments_lexer": "ipython3",
   "version": "3.9.2"
  }
 },
 "nbformat": 4,
 "nbformat_minor": 5
}
