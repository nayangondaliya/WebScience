{
 "cells": [
  {
   "cell_type": "markdown",
   "id": "99fffbdd",
   "metadata": {},
   "source": [
    "# Importing Libraries"
   ]
  },
  {
   "cell_type": "code",
   "execution_count": 243,
   "id": "fec2a47d",
   "metadata": {},
   "outputs": [],
   "source": [
    "import nltk\n",
    "import re\n",
    "from nltk import word_tokenize\n",
    "from collections import Counter\n",
    "import matplotlib.pyplot as plt"
   ]
  },
  {
   "cell_type": "markdown",
   "id": "f01d17d1",
   "metadata": {},
   "source": [
    "# Reading Text File"
   ]
  },
  {
   "cell_type": "code",
   "execution_count": 244,
   "id": "cf8a9c41",
   "metadata": {},
   "outputs": [],
   "source": [
    "f = open('Text_3.txt',encoding='utf-8')\n",
    "txt = f.read()"
   ]
  },
  {
   "cell_type": "markdown",
   "id": "a0a59dea",
   "metadata": {},
   "source": [
    "# Removing Punctuation"
   ]
  },
  {
   "cell_type": "code",
   "execution_count": 245,
   "id": "f8c109d5",
   "metadata": {},
   "outputs": [],
   "source": [
    "punc_space = [\"(\",\")\",\"+\",\"≈\",\"=\",'\"',\"-\",\"?\",\"&\",\"%\",':',\"\\n\",\"/\",\",\",\";\",'“', '”','[',']']\n",
    "punc_no_space = [\"’\",\".\"]\n",
    "punc_num = r'[0-9]'\n",
    "pattern = re.compile(\"[\" + re.escape(\"\".join(punc_space)) + \"]\")\n",
    "pattern2 = re.compile(\"[\" + re.escape(\"\".join(punc_no_space)) + \"]\") \n",
    "re_1 = re.sub(pattern, \" \", txt)\n",
    "re_2 = re.sub(pattern2, \"\", re_1)\n",
    "re3 = re.sub(punc_num,\" \",re_2)"
   ]
  },
  {
   "cell_type": "code",
   "execution_count": 246,
   "id": "82b327b0",
   "metadata": {},
   "outputs": [],
   "source": [
    "lower = re3.lower()"
   ]
  },
  {
   "cell_type": "markdown",
   "id": "39e1f161",
   "metadata": {},
   "source": [
    "# Tokenization"
   ]
  },
  {
   "cell_type": "code",
   "execution_count": 247,
   "id": "fadb2a56",
   "metadata": {},
   "outputs": [],
   "source": [
    "tokens = word_tokenize(lower)"
   ]
  },
  {
   "cell_type": "code",
   "execution_count": 248,
   "id": "7c02c67f",
   "metadata": {},
   "outputs": [],
   "source": [
    "words = re.findall(r'\\w+', lower)"
   ]
  },
  {
   "cell_type": "markdown",
   "id": "1b3d8e57",
   "metadata": {},
   "source": [
    "# Frequency"
   ]
  },
  {
   "cell_type": "code",
   "execution_count": 249,
   "id": "34337f8a",
   "metadata": {},
   "outputs": [],
   "source": [
    "c = Counter(words)"
   ]
  },
  {
   "cell_type": "code",
   "execution_count": 250,
   "id": "e6453a7c",
   "metadata": {},
   "outputs": [],
   "source": [
    "dic = list(dict(c).items())"
   ]
  },
  {
   "cell_type": "markdown",
   "id": "2cfa4ddd",
   "metadata": {},
   "source": [
    "# Sorting"
   ]
  },
  {
   "cell_type": "code",
   "execution_count": 251,
   "id": "f3341fe7",
   "metadata": {},
   "outputs": [],
   "source": [
    "sort = sorted(dic,key=lambda l:l[1],reverse =True)\n",
    "words = list(dict(sort).keys())\n",
    "frequency = list(dict(sort).values())"
   ]
  },
  {
   "cell_type": "markdown",
   "id": "bc58cdc6",
   "metadata": {},
   "source": [
    "# Ranking"
   ]
  },
  {
   "cell_type": "code",
   "execution_count": 252,
   "id": "cde63aba",
   "metadata": {},
   "outputs": [],
   "source": [
    "ranks = []\n",
    "r = 0\n",
    "for i in range(len(frequency)):\n",
    "    if(i==len(frequency)-1):\n",
    "        if(frequency[i]==frequency[i-1]):\n",
    "            ranks.append(r)\n",
    "        else:\n",
    "            ranks.append(r+1)\n",
    "    elif(frequency[i]==frequency[i+1]):\n",
    "        ranks.append(r)\n",
    "    else:\n",
    "        ranks.append(r+1)\n",
    "        r = r+1"
   ]
  },
  {
   "cell_type": "markdown",
   "id": "068aac45",
   "metadata": {},
   "source": [
    "# Plotting"
   ]
  },
  {
   "cell_type": "code",
   "execution_count": 253,
   "id": "493c7d5d",
   "metadata": {},
   "outputs": [
    {
     "data": {
      "image/png": "[encoded data removed]",
      "text/plain": [
       "<Figure size 432x288 with 1 Axes>"
      ]
     },
     "metadata": {
      "needs_background": "light"
     },
     "output_type": "display_data"
    }
   ],
   "source": [
    "plt.plot(ranks,frequency)\n",
    "plt.xlabel(\"Rank\")\n",
    "plt.ylabel(\"Frequency\")\n",
    "plt.title(\"Frequency Vs Rank Graph\", fontsize=15)\n",
    "plt.show()"
   ]
  },
  {
   "cell_type": "markdown",
   "id": "132b640b",
   "metadata": {},
   "source": [
    "# K (proportionality constant) between frequency and rank"
   ]
  },
  {
   "cell_type": "code",
   "execution_count": 254,
   "id": "2846d07f",
   "metadata": {},
   "outputs": [
    {
     "name": "stdout",
     "output_type": "stream",
     "text": [
      "0.02962063906142276\n"
     ]
    }
   ],
   "source": [
    "#k = 1/(sum(1/rank))\n",
    "l = []\n",
    "for i in ranks:\n",
    "    l.append(1/i)\n",
    "sm = sum(l)\n",
    "k = 1/sm\n",
    "print(k)"
   ]
  },
  {
   "cell_type": "code",
   "execution_count": 255,
   "id": "aa3b71ad",
   "metadata": {},
   "outputs": [],
   "source": [
    "#f(x) = k/x\n",
    "fx = []\n",
    "for i in ranks:\n",
    "    fx.append(k/i)"
   ]
  },
  {
   "cell_type": "markdown",
   "id": "f2019f67",
   "metadata": {},
   "source": [
    "# Plotting"
   ]
  },
  {
   "cell_type": "code",
   "execution_count": 256,
   "id": "21035b02",
   "metadata": {},
   "outputs": [
    {
     "data": {
      "image/png": "[encoded data removed]",
      "text/plain": [
       "<Figure size 432x288 with 1 Axes>"
      ]
     },
     "metadata": {
      "needs_background": "light"
     },
     "output_type": "display_data"
    }
   ],
   "source": [
    "plt.plot(ranks,fx)\n",
    "plt.xlabel(\"Rank\")\n",
    "plt.ylabel(\"f(x)=k/x\")\n",
    "plt.title(\"Constant K\", fontsize=15)\n",
    "plt.show()"
   ]
  },
  {
   "cell_type": "markdown",
   "id": "33514cd2",
   "metadata": {},
   "source": [
    "# conformance of the data to Zipf’s law"
   ]
  },
  {
   "cell_type": "code",
   "execution_count": 260,
   "id": "6779e8af",
   "metadata": {},
   "outputs": [
    {
     "data": {
      "text/plain": [
       "[('the', 580), ('of', 438), ('a', 301)]"
      ]
     },
     "execution_count": 260,
     "metadata": {},
     "output_type": "execute_result"
    }
   ],
   "source": [
    "sort[:3]"
   ]
  },
  {
   "cell_type": "code",
   "execution_count": 200,
   "id": "644676d3",
   "metadata": {},
   "outputs": [
    {
     "data": {
      "text/plain": [
       "\"Hence Zipf's law does not hold here\""
      ]
     },
     "execution_count": 200,
     "metadata": {},
     "output_type": "execute_result"
    }
   ],
   "source": [
    "\"Zipf's law states that frequency of a word should be inversely proptional to their ranks.\"\n",
    "\"That means frequency of 3rd most frequent word should have 1/3rd frequency as that of most frequent word's frequency.\" \n",
    "\"In out data rank 1,2 and 3 belongs to the(frequency = 580), of(frequency = 438) and a(frequency = 301).\"\n",
    "\"Rank 2's frequency is nowhere close to half of rank 1's frequency\"\n",
    "\"Rank 3's frequency is nowhere close to one third of rank 1's frequency\"\n",
    "\"Hence Zipf's law does not hold here\""
   ]
  }
 ],
 "metadata": {
  "kernelspec": {
   "display_name": "Python 3 (ipykernel)",
   "language": "python",
   "name": "python3"
  },
  "language_info": {
   "codemirror_mode": {
    "name": "ipython",
    "version": 3
   },
   "file_extension": ".py",
   "mimetype": "text/x-python",
   "name": "python",
   "nbconvert_exporter": "python",
   "pygments_lexer": "ipython3",
   "version": "3.9.2"
  }
 },
 "nbformat": 4,
 "nbformat_minor": 5
}
