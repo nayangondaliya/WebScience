{
 "cells": [
  {
   "cell_type": "code",
   "execution_count": 1,
   "id": "a3e8f18c",
   "metadata": {},
   "outputs": [],
   "source": [
    "#import required libraries\n",
    "import pandas as pd\n",
    "import math\n",
    "from nltk.tokenize import RegexpTokenizer"
   ]
  },
  {
   "cell_type": "code",
   "execution_count": 2,
   "id": "86a570df",
   "metadata": {},
   "outputs": [],
   "source": [
    "#defining functin for printing run time error\n",
    "def printRuntimeError(err):\n",
    "    \n",
    "    #print error received in arguments\n",
    "    print(f'Unexpected {err=}, {type(err)=}')"
   ]
  },
  {
   "cell_type": "code",
   "execution_count": 3,
   "id": "6b6b7a34",
   "metadata": {},
   "outputs": [],
   "source": [
    "#defining function for reading file and tokenizing file data\n",
    "def readFileAndGetWordList(file_name):\n",
    "    \n",
    "    #initializing word response list\n",
    "    response = []\n",
    "    \n",
    "    #wrapping code in try excep block for runtime error\n",
    "    try:\n",
    "        #read text file using encoding = utf-8 \n",
    "        file = open(file_name, 'r', encoding=\"utf8\")\n",
    "\n",
    "        #converting text to lower case and removing digits from string\n",
    "        text = file.read().lower().translate(str.maketrans('', '', '0123456789'))\n",
    "\n",
    "        #intializing token to separate word from string\n",
    "        tokenizer = RegexpTokenizer(r'\\w+')\n",
    "\n",
    "        #retreiving list of words using tokenizer\n",
    "        response = tokenizer.tokenize(text)\n",
    "\n",
    "    #catching runtime error \n",
    "    except BaseException as err:\n",
    "        \n",
    "        #printing error details\n",
    "        printRuntimeError(err)\n",
    "        \n",
    "    #returning response\n",
    "    return response"
   ]
  },
  {
   "cell_type": "code",
   "execution_count": 4,
   "id": "9a885003",
   "metadata": {},
   "outputs": [],
   "source": [
    "#defining function for generating dataframe from list of words\n",
    "def generateDataFrame(words):\n",
    "    \n",
    "    #generating word dataframe\n",
    "    response = pd.DataFrame(words, columns=['word'])\n",
    "    \n",
    "    #returning response\n",
    "    return response"
   ]
  },
  {
   "cell_type": "code",
   "execution_count": 5,
   "id": "c9a7388a",
   "metadata": {},
   "outputs": [],
   "source": [
    "#defining function for calculating word frequency in dataframe based on given input sets\n",
    "def countWordFrequencyInDataFrame(df, list_1, list_2, set_1, set_2, clmn_1, clmn_2):\n",
    "    \n",
    "    #assigning new column in dataframe\n",
    "    df[clmn_1] = 0\n",
    "    df[clmn_2] = 0\n",
    "    \n",
    "    #iterating through set of words for frequency calculation\n",
    "    for word in set_1:\n",
    "        \n",
    "        #assigning frequency of word in dataframe row\n",
    "        df.loc[df['word'] == word, clmn_1] = list_1.count(word)\n",
    "        \n",
    "    #iterating through set of words for frequency calculation\n",
    "    for word in set_2:\n",
    "        \n",
    "        #assigning frequency of word in dataframe row\n",
    "        df.loc[df['word'] == word, clmn_2] = list_2.count(word)\n",
    "        \n",
    "    #returning response\n",
    "    return df"
   ]
  },
  {
   "cell_type": "code",
   "execution_count": 6,
   "id": "394f15b5",
   "metadata": {},
   "outputs": [],
   "source": [
    "#defining function for retreiving union of sets\n",
    "def getUnionOfDataset(data_1, data_2):\n",
    "    \n",
    "    #return union of two sets\n",
    "    return data_1.union(data_2)"
   ]
  },
  {
   "cell_type": "code",
   "execution_count": 7,
   "id": "0fe531eb",
   "metadata": {},
   "outputs": [],
   "source": [
    "#defining function for retreiving intersection of sets\n",
    "def getIntersectionOfDataset(data_1, data_2):\n",
    "    \n",
    "    #return intersection of two sets\n",
    "    return data_1.intersection(data_2)"
   ]
  },
  {
   "cell_type": "code",
   "execution_count": 8,
   "id": "e59d4f05",
   "metadata": {},
   "outputs": [],
   "source": [
    "#defining function for calculating Jaccard Similarity\n",
    "def getJaccardSimilarity(data_1, data_2):\n",
    "    \n",
    "    #retreiving union of sets\n",
    "    union = getUnionOfDataset(data_1, data_2)\n",
    "    \n",
    "    #retreiving intersection of sets\n",
    "    intersection = getIntersectionOfDataset(data_1, data_2)\n",
    "    \n",
    "    #calculating Jaccard Similarity using ratio of length of intersection and union\n",
    "    return len(intersection)/len(union)"
   ]
  },
  {
   "cell_type": "code",
   "execution_count": 9,
   "id": "8a36750e",
   "metadata": {},
   "outputs": [],
   "source": [
    "#defining function for generating frequency dataframe \n",
    "def generateFreqDataFrame(set_1, set_2, list_1, list_2, clmn_1, clmn_2):\n",
    "    \n",
    "    #initializing dataframe using union of two sets\n",
    "    df = generateDataFrame(getUnionOfDataset(set_1, set_2))\n",
    "    \n",
    "    #calculating frequency of words in dataframe based on list\n",
    "    df = countWordFrequencyInDataFrame(df, list_1, list_2, set_1, set_2, clmn_1, clmn_2)\n",
    "    \n",
    "    #returning response\n",
    "    return df"
   ]
  },
  {
   "cell_type": "code",
   "execution_count": 10,
   "id": "cadc6ac0",
   "metadata": {},
   "outputs": [],
   "source": [
    "#defining function for calculating euclidean distance\n",
    "def getEuclideanDistance(df, clmn_1, clmn_2):\n",
    "    \n",
    "    #defining new column distance for euclidean input\n",
    "    df['distance'] = (df[clmn_1] - df[clmn_2])**2\n",
    "    \n",
    "    #calculating and returning euclidean distance between two texts as response \n",
    "    return (df['distance'].sum())**0.5"
   ]
  },
  {
   "cell_type": "code",
   "execution_count": 11,
   "id": "2f0c9072",
   "metadata": {},
   "outputs": [],
   "source": [
    "#defining function for calculating cosine similarity\n",
    "def getCosineSimilarity(df, clmn_1, clmn_2):\n",
    "    \n",
    "    #multiplying frequency columns of two texts\n",
    "    df[f'{clmn_1}*{clmn_2}'] = df[clmn_1] * df[clmn_2]\n",
    "    \n",
    "    #genrating column for storing square of frequency in text 1\n",
    "    df[f'sq({clmn_1})'] =  df[clmn_1]**2\n",
    "    \n",
    "    #genrating column for storing square of frequency in text 2\n",
    "    df[f'sq({clmn_2})'] =  df[clmn_2]**2\n",
    "    \n",
    "    #calculating cosine similarity between two texts and returning as response\n",
    "    return math.acos(df[f'{clmn_1}*{clmn_2}'].sum() / ((df[f'sq({clmn_1})'].sum()**0.5) * (df[f'sq({clmn_2})'].sum()**0.5)))"
   ]
  },
  {
   "cell_type": "code",
   "execution_count": 12,
   "id": "a9384c92",
   "metadata": {},
   "outputs": [],
   "source": [
    "#GENERATING COMMON DATASETS\n",
    "list_0 = readFileAndGetWordList('Text_0.txt')\n",
    "list_1 = readFileAndGetWordList('Text_1.txt')\n",
    "list_2 = readFileAndGetWordList('Text_2.txt')\n",
    "\n",
    "set_0 = set(list_0)\n",
    "set_1 = set(list_1)\n",
    "set_2 = set(list_2)\n",
    "\n",
    "df_fr01 = generateFreqDataFrame(set_0, set_1, list_0, list_1, '0', '1')\n",
    "df_fr02 = generateFreqDataFrame(set_0, set_2, list_0, list_2, '0', '2')\n",
    "df_fr12 = generateFreqDataFrame(set_1, set_2, list_1, list_2, '1', '2')"
   ]
  },
  {
   "cell_type": "code",
   "execution_count": 14,
   "id": "fef5c4fb",
   "metadata": {},
   "outputs": [],
   "source": [
    "#JACCARD SIMILARITY\n",
    "j_01 = getJaccardSimilarity(set_0, set_1)\n",
    "j_02 = getJaccardSimilarity(set_0, set_2)\n",
    "j_12 = getJaccardSimilarity(set_1, set_2)\n",
    "\n",
    "#print(f'Jaccard similarity between 0 and 1 is : {j_01}')\n",
    "#print(f'Jaccard similarity between 0 and 2 is : {j_02}')\n",
    "#print(f'Jaccard similarity between 1 and 2 is : {j_12}')"
   ]
  },
  {
   "cell_type": "code",
   "execution_count": 14,
   "id": "37750d04",
   "metadata": {},
   "outputs": [],
   "source": [
    "#EUCLEDIAN DISTANCE\n",
    "e_01 = getEuclideanDistance(df_fr01, '0', '1')\n",
    "e_02 = getEuclideanDistance(df_fr02, '0', '2')\n",
    "e_12 = getEuclideanDistance(df_fr12, '1', '2')\n",
    "\n",
    "#print(f'Euclidean distance between 0 and 1 is : {e_01}')\n",
    "#print(f'Euclidean distance between 0 and 2 is : {e_02}')\n",
    "#print(f'Euclidean distance between 1 and 2 is : {e_12}')"
   ]
  },
  {
   "cell_type": "code",
   "execution_count": 15,
   "id": "a777221d",
   "metadata": {},
   "outputs": [],
   "source": [
    "#COSINE SIMILARITY\n",
    "c_01 = getCosineSimilarity(df_fr01, '0', '1')\n",
    "c_02 = getCosineSimilarity(df_fr02, '0', '2')\n",
    "c_12 = getCosineSimilarity(df_fr12, '1', '2')\n",
    "\n",
    "#print(f'Cosine Similarity between 0 and 1 is : {c_01}')\n",
    "#print(f'Cosine Similarity between 0 and 2 is : {c_02}')\n",
    "#print(f'Cosine Similarity between 1 and 2 is : {c_12}')"
   ]
  },
  {
   "cell_type": "code",
   "execution_count": 16,
   "id": "80199e65",
   "metadata": {},
   "outputs": [
    {
     "data": {
      "text/html": [
       "<div>\n",
       "<style scoped>\n",
       "    .dataframe tbody tr th:only-of-type {\n",
       "        vertical-align: middle;\n",
       "    }\n",
       "\n",
       "    .dataframe tbody tr th {\n",
       "        vertical-align: top;\n",
       "    }\n",
       "\n",
       "    .dataframe thead th {\n",
       "        text-align: right;\n",
       "    }\n",
       "</style>\n",
       "<table border=\"1\" class=\"dataframe\">\n",
       "  <thead>\n",
       "    <tr style=\"text-align: right;\">\n",
       "      <th></th>\n",
       "      <th>01</th>\n",
       "      <th>02</th>\n",
       "      <th>12</th>\n",
       "    </tr>\n",
       "  </thead>\n",
       "  <tbody>\n",
       "    <tr>\n",
       "      <th>Jaccard Score</th>\n",
       "      <td>0.118644</td>\n",
       "      <td>0.122137</td>\n",
       "      <td>0.148438</td>\n",
       "    </tr>\n",
       "    <tr>\n",
       "      <th>Euclidean Distance</th>\n",
       "      <td>28.583212</td>\n",
       "      <td>46.561787</td>\n",
       "      <td>40.435133</td>\n",
       "    </tr>\n",
       "    <tr>\n",
       "      <th>Cosine Similarity</th>\n",
       "      <td>1.043036</td>\n",
       "      <td>1.155993</td>\n",
       "      <td>0.931397</td>\n",
       "    </tr>\n",
       "  </tbody>\n",
       "</table>\n",
       "</div>"
      ],
      "text/plain": [
       "                           01         02         12\n",
       "Jaccard Score        0.118644   0.122137   0.148438\n",
       "Euclidean Distance  28.583212  46.561787  40.435133\n",
       "Cosine Similarity    1.043036   1.155993   0.931397"
      ]
     },
     "execution_count": 16,
     "metadata": {},
     "output_type": "execute_result"
    }
   ],
   "source": [
    "data = [[j_01, j_02, j_12], [e_01, e_02, e_12], [c_01, c_02, c_12]]\n",
    "r_df = pd.DataFrame(data = data, index=['Jaccard Score','Euclidean Distance','Cosine Similarity'], columns=['01','02','12'])\n",
    "r_df"
   ]
  }
 ],
 "metadata": {
  "kernelspec": {
   "display_name": "Python 3 (ipykernel)",
   "language": "python",
   "name": "python3"
  },
  "language_info": {
   "codemirror_mode": {
    "name": "ipython",
    "version": 3
   },
   "file_extension": ".py",
   "mimetype": "text/x-python",
   "name": "python",
   "nbconvert_exporter": "python",
   "pygments_lexer": "ipython3",
   "version": "3.9.2"
  }
 },
 "nbformat": 4,
 "nbformat_minor": 5
}
