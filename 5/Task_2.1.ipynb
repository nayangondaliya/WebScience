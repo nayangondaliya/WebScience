{
 "cells": [
  {
   "cell_type": "code",
   "execution_count": 1,
   "id": "8bc117c6",
   "metadata": {},
   "outputs": [],
   "source": [
    "#import t\n",
    "import pandas as pd"
   ]
  },
  {
   "cell_type": "code",
   "execution_count": 2,
   "id": "b6b15215",
   "metadata": {},
   "outputs": [],
   "source": [
    "df = pd.read_csv('data.csv')"
   ]
  },
  {
   "cell_type": "code",
   "execution_count": 3,
   "id": "0555a6c3",
   "metadata": {},
   "outputs": [
    {
     "name": "stdout",
     "output_type": "stream",
     "text": [
      "Internal mean : 185.105, median: 93.5\n",
      "External mean : 149.76, median: 120.0\n",
      "Local mean : 26.905, median: 11.0\n"
     ]
    }
   ],
   "source": [
    "int_mean = df['INTcount'].mean()\n",
    "int_median = df['INTcount'].median()\n",
    "\n",
    "print(f'Internal mean : {int_mean}, median: {int_median}')\n",
    "\n",
    "ext_mean = df['EXTcount'].mean()\n",
    "ext_median = df['EXTcount'].median()\n",
    "\n",
    "print(f'External mean : {ext_mean}, median: {ext_median}')\n",
    "\n",
    "lcl_mean = df['URLfragments'].mean()\n",
    "lcl_median = df['URLfragments'].median()\n",
    "\n",
    "print(f'Local mean : {lcl_mean}, median: {lcl_median}')"
   ]
  }
 ],
 "metadata": {
  "kernelspec": {
   "display_name": "Python 3 (ipykernel)",
   "language": "python",
   "name": "python3"
  },
  "language_info": {
   "codemirror_mode": {
    "name": "ipython",
    "version": 3
   },
   "file_extension": ".py",
   "mimetype": "text/x-python",
   "name": "python",
   "nbconvert_exporter": "python",
   "pygments_lexer": "ipython3",
   "version": "3.9.2"
  }
 },
 "nbformat": 4,
 "nbformat_minor": 5
}
