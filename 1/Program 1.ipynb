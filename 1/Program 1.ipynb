{
 "cells": [
  {
   "cell_type": "code",
   "execution_count": 1,
   "id": "305ff76b",
   "metadata": {},
   "outputs": [
    {
     "data": {
      "image/png": "[encoded data removed]",
      "text/plain": [
       "<Figure size 720x432 with 1 Axes>"
      ]
     },
     "metadata": {
      "needs_background": "light"
     },
     "output_type": "display_data"
    }
   ],
   "source": [
    "#importing all the required libraries\n",
    "import matplotlib.pyplot as plot\n",
    "from random import randint\n",
    "import numpy as np\n",
    "\n",
    "#declare all the array for storing degree and random number\n",
    "SIN = []\n",
    "COSIN = []\n",
    "degrees = []\n",
    "\n",
    "#generate 10 random number between 0 and 80\n",
    "for n in range(0, 10):\n",
    "    element = randint(0, 80)\n",
    "    degrees.append(element)\n",
    "    SIN.append(np.sin(element))\n",
    "    COSIN.append(np.cos(element))\n",
    "\n",
    "#generating range of values from 0 to length of degrees array\n",
    "xAx = np.arange(len(degrees))\n",
    "\n",
    "#setting figure size\n",
    "graph = plot.figure(figsize = (10, 6))\n",
    "\n",
    "#assigning data of SIN and COSIN values to bar chart  \n",
    "plot.bar(xAx - 0.12, SIN, width = 0.25, label = 'SIN')\n",
    "plot.bar(xAx + 0.12, COSIN, width = 0.25, label = 'COSIN')\n",
    "\n",
    "#setting degrees location on x axes\n",
    "plot.xticks(xAx, degrees)\n",
    "\n",
    "#assigning label as degrees to x axes\n",
    "plot.xlabel(\"degrees\")\n",
    "\n",
    "#assigning label as values to y axes\n",
    "plot.ylabel(\"values\")\n",
    "\n",
    "#setting legend\n",
    "plot.legend()\n",
    "\n",
    "#displaying bar graph\n",
    "plot.show()"
   ]
  },
  {
   "cell_type": "code",
   "execution_count": null,
   "id": "f51ac99a",
   "metadata": {},
   "outputs": [],
   "source": []
  }
 ],
 "metadata": {
  "kernelspec": {
   "display_name": "Python 3 (ipykernel)",
   "language": "python",
   "name": "python3"
  },
  "language_info": {
   "codemirror_mode": {
    "name": "ipython",
    "version": 3
   },
   "file_extension": ".py",
   "mimetype": "text/x-python",
   "name": "python",
   "nbconvert_exporter": "python",
   "pygments_lexer": "ipython3",
   "version": "3.9.2"
  }
 },
 "nbformat": 4,
 "nbformat_minor": 5
}
