{
 "cells": [
  {
   "cell_type": "code",
   "execution_count": 17,
   "id": "0fa1bbb1",
   "metadata": {},
   "outputs": [
    {
     "data": {
      "image/png": "[encoded data removed]",
      "text/plain": [
       "<Figure size 1080x432 with 1 Axes>"
      ]
     },
     "metadata": {
      "needs_background": "light"
     },
     "output_type": "display_data"
    }
   ],
   "source": [
    "#importing required libraries\n",
    "import matplotlib.pyplot as plot\n",
    "\n",
    "#opening sample file\n",
    "file = open(\"sample.txt\", \"r\")\n",
    "\n",
    "#reading file\n",
    "content = file.read()\n",
    "\n",
    "#declaring array for storing all the characters of file\n",
    "alphabets = []\n",
    "\n",
    "#converting string to character array\n",
    "alphabets[:0] = content\n",
    "\n",
    "#retreiving all the unique characters from array of characters\n",
    "uniqueAlpha = set(alphabets)\n",
    "\n",
    "#declaring dictionary for counting frequency of each character in file\n",
    "alphaCounter = {}\n",
    "\n",
    "#calculating frequecncy of each character and storing in dictionary\n",
    "for alpha in uniqueAlpha:\n",
    "    alphaCounter[alpha] = alphabets.count(alpha)\n",
    "\n",
    "#separating keys of dictionary for x Axes labels\n",
    "chars = list(alphaCounter.keys())\n",
    "\n",
    "#separating values of dictionary for y Axes labels\n",
    "charCounts = list(alphaCounter.values())\n",
    "\n",
    "#setting figure size\n",
    "graph = plot.figure(figsize = (15, 6))\n",
    "\n",
    "#assigning data of characters and it's frequency values to bar chart\n",
    "plot.bar(chars, charCounts, color ='blue', width = 0.5)\n",
    "\n",
    "#assigning label as character distribution to x axes\n",
    "plot.xlabel(\"character distribution\")\n",
    "\n",
    "#assigning label as frequency to y axes\n",
    "plot.ylabel(\"frequency\")\n",
    "\n",
    "#displaying bar graph\n",
    "plot.show()"
   ]
  },
  {
   "cell_type": "code",
   "execution_count": null,
   "id": "87743005",
   "metadata": {},
   "outputs": [],
   "source": []
  },
  {
   "cell_type": "code",
   "execution_count": null,
   "id": "d6f2ed51",
   "metadata": {},
   "outputs": [],
   "source": []
  }
 ],
 "metadata": {
  "kernelspec": {
   "display_name": "Python 3 (ipykernel)",
   "language": "python",
   "name": "python3"
  },
  "language_info": {
   "codemirror_mode": {
    "name": "ipython",
    "version": 3
   },
   "file_extension": ".py",
   "mimetype": "text/x-python",
   "name": "python",
   "nbconvert_exporter": "python",
   "pygments_lexer": "ipython3",
   "version": "3.9.2"
  }
 },
 "nbformat": 4,
 "nbformat_minor": 5
}
