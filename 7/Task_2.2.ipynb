{
 "cells": [
  {
   "cell_type": "code",
   "execution_count": 1,
   "id": "f3b44327",
   "metadata": {},
   "outputs": [],
   "source": [
    "#get matrix \n",
    "def getMatrix(row, column, initialiser):\n",
    "    matrix = []\n",
    "\n",
    "    for i in range(row):\n",
    "        row = []\n",
    "        for j in range(column):\n",
    "                row.append(initialiser)\n",
    "        matrix.append(row)\n",
    "    return matrix"
   ]
  },
  {
   "cell_type": "code",
   "execution_count": 5,
   "id": "7563bec1",
   "metadata": {},
   "outputs": [],
   "source": [
    "#generate adjacency matrix\n",
    "def generateMatrix(fileName, vertices, totalVertices):\n",
    "    matrix = getMatrix(totalVertices, totalVertices, 0)\n",
    "    \n",
    "    file = open(fileName, \"r\")\n",
    "\n",
    "    for line in file:\n",
    "        node_detail = line.split(\"=\")\n",
    "        node = node_detail[0].strip()\n",
    "        edge_list = node_detail[1].split(\",\")\n",
    "        node_index = vertices.index(node)\n",
    "\n",
    "        for edge in edge_list:\n",
    "            edge = edge.strip()\n",
    "            edge_index = vertices.index(edge)\n",
    "            \n",
    "            matrix[node_index][edge_index] = 1\n",
    "            #matrix[edge_index][node_index] = 1 #graph is undirected\n",
    "    return matrix"
   ]
  },
  {
   "cell_type": "code",
   "execution_count": 8,
   "id": "e6e19401",
   "metadata": {},
   "outputs": [],
   "source": [
    "#get outDegree\n",
    "def getOutDegree(graph, vertices, totalVertices):\n",
    "    outDegree = {}\n",
    "\n",
    "    for node in range(totalVertices):\n",
    "        cVertex = vertices[node]\n",
    "        outDegree[cVertex] = 0\n",
    "        for vertex in range(totalVertices):\n",
    "            if graph[node][vertex] == 1:\n",
    "                outDegree[cVertex] += 1\n",
    "    return outDegree"
   ]
  },
  {
   "cell_type": "code",
   "execution_count": 9,
   "id": "f473a9b4",
   "metadata": {},
   "outputs": [],
   "source": [
    "#get inDegree\n",
    "def getInDegree(graph, vertices, totalVertices):\n",
    "    inDegree = {}\n",
    "\n",
    "    for vertex in vertices:\n",
    "        inDegree[vertex] = 0\n",
    "\n",
    "    for node in range(totalVertices):\n",
    "        for vertex in range(totalVertices):\n",
    "            if graph[node][vertex] == 1:\n",
    "                inDegree[vertices[vertex]] += 1\n",
    "    return inDegree"
   ]
  },
  {
   "cell_type": "code",
   "execution_count": 11,
   "id": "41bde2b8",
   "metadata": {},
   "outputs": [
    {
     "name": "stdout",
     "output_type": "stream",
     "text": [
      "Out Degree of a is: 2\n",
      "Out Degree of b is: 2\n",
      "Out Degree of c is: 2\n",
      "Out Degree of d is: 1\n",
      "Out Degree of e is: 2\n",
      "Out Degree of f is: 1\n",
      "Out Degree of g is: 2\n",
      "Out Degree of h is: 0\n",
      "\n",
      "In Degree of a is: 2\n",
      "In Degree of b is: 3\n",
      "In Degree of c is: 1\n",
      "In Degree of d is: 1\n",
      "In Degree of e is: 1\n",
      "In Degree of f is: 1\n",
      "In Degree of g is: 2\n",
      "In Degree of h is: 1\n"
     ]
    },
    {
     "data": {
      "text/plain": [
       "[[0, 0, 0, 1, 1, 0, 0, 0],\n",
       " [1, 0, 1, 0, 0, 0, 0, 0],\n",
       " [0, 1, 0, 0, 0, 1, 0, 0],\n",
       " [0, 0, 0, 0, 0, 0, 1, 0],\n",
       " [0, 1, 0, 0, 0, 0, 1, 0],\n",
       " [0, 1, 0, 0, 0, 0, 0, 0],\n",
       " [1, 0, 0, 0, 0, 0, 0, 1],\n",
       " [0, 0, 0, 0, 0, 0, 0, 0]]"
      ]
     },
     "execution_count": 11,
     "metadata": {},
     "output_type": "execute_result"
    }
   ],
   "source": [
    "totalVertices = 8\n",
    "vertices = [\"a\", \"b\", \"c\", \"d\", \"e\", \"f\", \"g\", \"h\"]\n",
    "\n",
    "graph = generateMatrix(\"graph.txt\", vertices, totalVertices)\n",
    "outDegree = getOutDegree(graph, vertices, totalVertices)\n",
    "\n",
    "for key in outDegree:\n",
    "    print(f'Out Degree of {key} is: {outDegree[key]}')\n",
    "\n",
    "print()\n",
    "\n",
    "inDegree = getInDegree(graph, vertices, totalVertices)\n",
    "\n",
    "for key in outDegree:\n",
    "    print(f'In Degree of {key} is: {inDegree[key]}')\n",
    "    \n",
    "graph"
   ]
  },
  {
   "cell_type": "code",
   "execution_count": null,
   "id": "4a260344",
   "metadata": {},
   "outputs": [],
   "source": []
  }
 ],
 "metadata": {
  "kernelspec": {
   "display_name": "Python 3 (ipykernel)",
   "language": "python",
   "name": "python3"
  },
  "language_info": {
   "codemirror_mode": {
    "name": "ipython",
    "version": 3
   },
   "file_extension": ".py",
   "mimetype": "text/x-python",
   "name": "python",
   "nbconvert_exporter": "python",
   "pygments_lexer": "ipython3",
   "version": "3.9.2"
  }
 },
 "nbformat": 4,
 "nbformat_minor": 5
}
