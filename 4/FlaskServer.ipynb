{
 "cells": [
  {
   "cell_type": "code",
   "execution_count": 1,
   "id": "9c7778fb",
   "metadata": {},
   "outputs": [],
   "source": [
    "#import required libraries\n",
    "from flask import Flask, request, render_template"
   ]
  },
  {
   "cell_type": "code",
   "execution_count": 2,
   "id": "f68911bc",
   "metadata": {},
   "outputs": [],
   "source": [
    "#create an instance of Flask app\n",
    "app = Flask(__name__)"
   ]
  },
  {
   "cell_type": "code",
   "execution_count": 3,
   "id": "72c5addf",
   "metadata": {},
   "outputs": [],
   "source": [
    "#define route for web app, which accepts both GET and POST request and defining process function\n",
    "@app.route(\"/\", methods=('GET', 'POST'))\n",
    "def index():\n",
    "    \n",
    "    #wrapping code in try, except for runtime error handling\n",
    "    try:\n",
    "        #verify request is POST or GET\n",
    "        if request.method == 'POST':\n",
    "            \n",
    "            #retrieve email from request form\n",
    "            email = request.form['semail']\n",
    "            \n",
    "            #defining list for storing file content\n",
    "            lines = []\n",
    "            \n",
    "            #return email error message if email is not provided from request \n",
    "            if email == '' or email == None or email.isspace():\n",
    "                return \"Please enter email!\"\n",
    "            \n",
    "            #reading email's file for checking, if email already is in list\n",
    "            with open('emails.txt') as rf:\n",
    "                lines = rf.read().splitlines()\n",
    "            \n",
    "            #return error message if email is already in list\n",
    "            if email in lines:\n",
    "                return \"Error! This address is already in the list\"\n",
    "            else:\n",
    "                \n",
    "                #write email in email's file for process list\n",
    "                with open('emails.txt', 'a+') as wf:\n",
    "                    wf.write(f'{email}\\n')\n",
    "                    \n",
    "                #return success message\n",
    "                return \"Congratulations.. You have successfully subscribed to web science newsletters\"\n",
    "        else:\n",
    "            #render index page using render_template of flask for GET request\n",
    "            return render_template('index.html')\n",
    "        \n",
    "    except BaseException as err:\n",
    "        #print rutime error\n",
    "        print(f'Unexpected {err=}, {type(err)=}')\n",
    "        \n",
    "        #return runtime error message\n",
    "        return \"Oops, Error occured, Please try again\""
   ]
  },
  {
   "cell_type": "code",
   "execution_count": 4,
   "id": "1d775a6c",
   "metadata": {},
   "outputs": [],
   "source": [
    "#defining function for rendering schedule page\n",
    "@app.route('/schedule/')\n",
    "def schedule():\n",
    "    #render schedule page using flask\n",
    "    return render_template('index_schedule.html')"
   ]
  },
  {
   "cell_type": "code",
   "execution_count": null,
   "id": "5775d5c9",
   "metadata": {},
   "outputs": [
    {
     "name": "stdout",
     "output_type": "stream",
     "text": [
      " * Serving Flask app '__main__' (lazy loading)\n",
      " * Environment: production\n",
      "\u001b[31m   WARNING: This is a development server. Do not use it in a production deployment.\u001b[0m\n",
      "\u001b[2m   Use a production WSGI server instead.\u001b[0m\n",
      " * Debug mode: off\n"
     ]
    },
    {
     "name": "stderr",
     "output_type": "stream",
     "text": [
      " * Running on http://127.0.0.1:5000/ (Press CTRL+C to quit)\n",
      "127.0.0.1 - - [28/Nov/2021 16:54:43] \"GET / HTTP/1.1\" 200 -\n",
      "127.0.0.1 - - [28/Nov/2021 16:54:44] \"GET /static/style.css HTTP/1.1\" 304 -\n",
      "127.0.0.1 - - [28/Nov/2021 16:54:47] \"GET /schedule/ HTTP/1.1\" 200 -\n",
      "127.0.0.1 - - [28/Nov/2021 16:54:47] \"GET /static/style.css HTTP/1.1\" 304 -\n",
      "127.0.0.1 - - [28/Nov/2021 16:55:00] \"POST / HTTP/1.1\" 200 -\n",
      "127.0.0.1 - - [28/Nov/2021 16:55:01] \"GET / HTTP/1.1\" 200 -\n",
      "127.0.0.1 - - [28/Nov/2021 16:55:10] \"POST / HTTP/1.1\" 200 -\n",
      "127.0.0.1 - - [28/Nov/2021 16:55:11] \"GET / HTTP/1.1\" 200 -\n",
      "127.0.0.1 - - [28/Nov/2021 16:55:14] \"POST / HTTP/1.1\" 200 -\n",
      "127.0.0.1 - - [28/Nov/2021 16:55:16] \"GET / HTTP/1.1\" 200 -\n",
      "127.0.0.1 - - [28/Nov/2021 16:55:21] \"POST / HTTP/1.1\" 200 -\n",
      "127.0.0.1 - - [28/Nov/2021 16:55:24] \"GET / HTTP/1.1\" 200 -\n"
     ]
    }
   ],
   "source": [
    "#checking if main funnction is executing\n",
    "if __name__ == '__main__':\n",
    "    #create empty file for email storing\n",
    "    open('emails.txt', 'a').close()\n",
    "    \n",
    "    #run Flask app\n",
    "    app.run()"
   ]
  },
  {
   "cell_type": "code",
   "execution_count": null,
   "id": "9a80b436",
   "metadata": {},
   "outputs": [],
   "source": []
  }
 ],
 "metadata": {
  "kernelspec": {
   "display_name": "Python 3 (ipykernel)",
   "language": "python",
   "name": "python3"
  },
  "language_info": {
   "codemirror_mode": {
    "name": "ipython",
    "version": 3
   },
   "file_extension": ".py",
   "mimetype": "text/x-python",
   "name": "python",
   "nbconvert_exporter": "python",
   "pygments_lexer": "ipython3",
   "version": "3.9.2"
  }
 },
 "nbformat": 4,
 "nbformat_minor": 5
}
